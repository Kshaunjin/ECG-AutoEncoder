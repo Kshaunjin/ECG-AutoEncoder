{
 "cells": [
  {
   "cell_type": "code",
   "execution_count": 82,
   "metadata": {
    "collapsed": true
   },
   "outputs": [],
   "source": [
    "import numpy as np\n",
    "import pandas as pd\n",
    "import matplotlib.pyplot as plt\n",
    "from scipy.stats import norm\n",
    "\n",
    "from keras.layers import Input, Dense, Lambda, Layer, GaussianNoise, Conv1D, MaxPooling1D, UpSampling1D\n",
    "from keras.models import Model\n",
    "from keras import backend as K\n",
    "from keras import metrics\n",
    "from keras.utils import plot_model\n"
   ]
  },
  {
   "cell_type": "markdown",
   "metadata": {},
   "source": [
    "建立CDAE autoencoder 模型"
   ]
  },
  {
   "cell_type": "code",
   "execution_count": 83,
   "metadata": {
    "collapsed": true
   },
   "outputs": [],
   "source": [
    "#CDAE AutoEncoder\n",
    "x = Input(shape=(9000,1))\n",
    "noise = GaussianNoise(stddev=0.01)(x)\n",
    "conv1 = Conv1D(filters=32, kernel_size=2, strides=1 ,padding='same', activation='relu')(noise)\n",
    "pool1 = MaxPooling1D(pool_size=2)(conv1)\n",
    "\n",
    "conv2 = Conv1D(filters=16, kernel_size=2, strides=1,padding='same', activation='relu')(pool1)\n",
    "pool2 = MaxPooling1D(pool_size=2)(conv2)\n",
    "\n",
    "conv3 = Conv1D(filters=4, kernel_size=2, strides=1,padding='same', activation='relu')(pool2)\n",
    "pool3 = MaxPooling1D(pool_size=2)(conv3)\n",
    "\n",
    "upsamp4 = UpSampling1D(size=2)(pool3)\n",
    "conv4 = Conv1D(filters=16, kernel_size=2, strides=1,padding='same', activation='relu')(upsamp4)\n",
    "\n",
    "upsamp5 = UpSampling1D(size=2)(conv4)\n",
    "conv5 = Conv1D(filters=32, kernel_size=2, strides=1,padding='same', activation='relu')(upsamp5)\n",
    "\n",
    "upsamp6 = UpSampling1D(size=2)(conv5)\n",
    "conv6 = Conv1D(filters=1, kernel_size=2, strides=1,padding='same', activation='relu')(upsamp6)\n",
    "#output = Dense(400, activation='sigmoid')(pool3)\n",
    "#model = Model(inputs=x,outputs=output)\n",
    "model = Model(inputs=x,outputs=conv6)"
   ]
  },
  {
   "cell_type": "code",
   "execution_count": 84,
   "metadata": {},
   "outputs": [
    {
     "name": "stdout",
     "output_type": "stream",
     "text": [
      "_________________________________________________________________\n",
      "Layer (type)                 Output Shape              Param #   \n",
      "=================================================================\n",
      "input_6 (InputLayer)         (None, 9000, 1)           0         \n",
      "_________________________________________________________________\n",
      "gaussian_noise_6 (GaussianNo (None, 9000, 1)           0         \n",
      "_________________________________________________________________\n",
      "conv1d_31 (Conv1D)           (None, 9000, 32)          96        \n",
      "_________________________________________________________________\n",
      "max_pooling1d_16 (MaxPooling (None, 4500, 32)          0         \n",
      "_________________________________________________________________\n",
      "conv1d_32 (Conv1D)           (None, 4500, 16)          1040      \n",
      "_________________________________________________________________\n",
      "max_pooling1d_17 (MaxPooling (None, 2250, 16)          0         \n",
      "_________________________________________________________________\n",
      "conv1d_33 (Conv1D)           (None, 2250, 4)           132       \n",
      "_________________________________________________________________\n",
      "max_pooling1d_18 (MaxPooling (None, 1125, 4)           0         \n",
      "_________________________________________________________________\n",
      "up_sampling1d_16 (UpSampling (None, 2250, 4)           0         \n",
      "_________________________________________________________________\n",
      "conv1d_34 (Conv1D)           (None, 2250, 16)          144       \n",
      "_________________________________________________________________\n",
      "up_sampling1d_17 (UpSampling (None, 4500, 16)          0         \n",
      "_________________________________________________________________\n",
      "conv1d_35 (Conv1D)           (None, 4500, 32)          1056      \n",
      "_________________________________________________________________\n",
      "up_sampling1d_18 (UpSampling (None, 9000, 32)          0         \n",
      "_________________________________________________________________\n",
      "conv1d_36 (Conv1D)           (None, 9000, 1)           65        \n",
      "=================================================================\n",
      "Total params: 2,533\n",
      "Trainable params: 2,533\n",
      "Non-trainable params: 0\n",
      "_________________________________________________________________\n"
     ]
    }
   ],
   "source": [
    "model.summary()\n",
    "model.compile(optimizer='adam', loss='mse')"
   ]
  },
  {
   "cell_type": "code",
   "execution_count": 85,
   "metadata": {
    "collapsed": true
   },
   "outputs": [],
   "source": [
    "#plot_model(model, show_shapes=True, to_file='ECG_CDAE.png')"
   ]
  },
  {
   "cell_type": "code",
   "execution_count": 86,
   "metadata": {
    "collapsed": true
   },
   "outputs": [],
   "source": [
    "data = pd.read_csv('AliveCor_data/A00001.csv', header=None)"
   ]
  },
  {
   "cell_type": "code",
   "execution_count": 87,
   "metadata": {},
   "outputs": [
    {
     "data": {
      "text/plain": [
       "(9000, 1)"
      ]
     },
     "execution_count": 87,
     "metadata": {},
     "output_type": "execute_result"
    }
   ],
   "source": [
    "data.shape"
   ]
  },
  {
   "cell_type": "code",
   "execution_count": 88,
   "metadata": {
    "collapsed": true
   },
   "outputs": [],
   "source": [
    "df = data.values\n",
    "df = df.reshape((1, 9000, 1))"
   ]
  },
  {
   "cell_type": "code",
   "execution_count": 93,
   "metadata": {
    "collapsed": true
   },
   "outputs": [],
   "source": [
    "data2 = pd.read_csv('AliveCor_data/A00022.csv', header=None)\n",
    "df2 = data2.values\n",
    "df2 = df2.reshape((1, 9000, 1))"
   ]
  },
  {
   "cell_type": "code",
   "execution_count": 90,
   "metadata": {},
   "outputs": [
    {
     "name": "stdout",
     "output_type": "stream",
     "text": [
      "Epoch 1/20\n",
      "1/1 [==============================] - 42s 42s/step - loss: 0.0286\n",
      "Epoch 2/20\n",
      "1/1 [==============================] - 0s 100ms/step - loss: 0.0287\n",
      "Epoch 3/20\n",
      "1/1 [==============================] - 0s 100ms/step - loss: 0.0284\n",
      "Epoch 4/20\n",
      "1/1 [==============================] - 0s 116ms/step - loss: 0.0281\n",
      "Epoch 5/20\n",
      "1/1 [==============================] - 0s 118ms/step - loss: 0.0278\n",
      "Epoch 6/20\n",
      "1/1 [==============================] - 0s 113ms/step - loss: 0.0274\n",
      "Epoch 7/20\n",
      "1/1 [==============================] - 0s 128ms/step - loss: 0.0270\n",
      "Epoch 8/20\n",
      "1/1 [==============================] - 0s 109ms/step - loss: 0.0266\n",
      "Epoch 9/20\n",
      "1/1 [==============================] - 0s 106ms/step - loss: 0.0261\n",
      "Epoch 10/20\n",
      "1/1 [==============================] - 0s 99ms/step - loss: 0.0256\n",
      "Epoch 11/20\n",
      "1/1 [==============================] - 0s 98ms/step - loss: 0.0250\n",
      "Epoch 12/20\n",
      "1/1 [==============================] - 0s 99ms/step - loss: 0.0244\n",
      "Epoch 13/20\n",
      "1/1 [==============================] - 0s 106ms/step - loss: 0.0238\n",
      "Epoch 14/20\n",
      "1/1 [==============================] - 0s 130ms/step - loss: 0.0231\n",
      "Epoch 15/20\n",
      "1/1 [==============================] - 0s 184ms/step - loss: 0.0224\n",
      "Epoch 16/20\n",
      "1/1 [==============================] - 0s 125ms/step - loss: 0.0216\n",
      "Epoch 17/20\n",
      "1/1 [==============================] - 0s 144ms/step - loss: 0.0207\n",
      "Epoch 18/20\n",
      "1/1 [==============================] - 0s 121ms/step - loss: 0.0198\n",
      "Epoch 19/20\n",
      "1/1 [==============================] - 0s 105ms/step - loss: 0.0190\n",
      "Epoch 20/20\n",
      "1/1 [==============================] - 0s 99ms/step - loss: 0.0181\n"
     ]
    },
    {
     "data": {
      "text/plain": [
       "<keras.callbacks.History at 0x224a3bac5c0>"
      ]
     },
     "execution_count": 90,
     "metadata": {},
     "output_type": "execute_result"
    }
   ],
   "source": [
    "# fit model\n",
    "model.fit(df,df, epochs=20,batch_size=32)"
   ]
  },
  {
   "cell_type": "markdown",
   "metadata": {},
   "source": [
    "預測重建後雜訊數值"
   ]
  },
  {
   "cell_type": "code",
   "execution_count": 96,
   "metadata": {},
   "outputs": [
    {
     "name": "stdout",
     "output_type": "stream",
     "text": [
      "[[[0.39047435]\n",
      "  [0.39344046]\n",
      "  [0.3898847 ]\n",
      "  ...\n",
      "  [0.00256798]\n",
      "  [0.00227573]\n",
      "  [0.00139144]]]\n"
     ]
    }
   ],
   "source": [
    "yhat2 = model.predict(df2)\n",
    "print(yhat2)"
   ]
  },
  {
   "cell_type": "code",
   "execution_count": 99,
   "metadata": {
    "collapsed": true
   },
   "outputs": [],
   "source": [
    "pred = yhat2.reshape(9000,1)"
   ]
  },
  {
   "cell_type": "markdown",
   "metadata": {},
   "source": [
    "繪製重建後訊號"
   ]
  },
  {
   "cell_type": "code",
   "execution_count": 102,
   "metadata": {},
   "outputs": [
    {
     "data": {
      "image/png": "[encoded data removed]",
      "text/plain": [
       "<Figure size 432x288 with 1 Axes>"
      ]
     },
     "metadata": {},
     "output_type": "display_data"
    }
   ],
   "source": [
    "plt.plot(pred)\n",
    "plt.show()"
   ]
  },
  {
   "cell_type": "code",
   "execution_count": null,
   "metadata": {
    "collapsed": true
   },
   "outputs": [],
   "source": []
  }
 ],
 "metadata": {
  "kernelspec": {
   "display_name": "Python 3",
   "language": "python",
   "name": "python3"
  },
  "language_info": {
   "codemirror_mode": {
    "name": "ipython",
    "version": 3
   },
   "file_extension": ".py",
   "mimetype": "text/x-python",
   "name": "python",
   "nbconvert_exporter": "python",
   "pygments_lexer": "ipython3",
   "version": "3.6.5"
  }
 },
 "nbformat": 4,
 "nbformat_minor": 2
}
